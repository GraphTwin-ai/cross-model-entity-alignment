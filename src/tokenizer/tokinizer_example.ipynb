{
 "cells": [
  {
   "cell_type": "code",
   "execution_count": null,
   "metadata": {},
   "outputs": [],
   "source": [
    "%cd src/tokenizer"
   ]
  },
  {
   "cell_type": "code",
   "execution_count": 14,
   "metadata": {},
   "outputs": [
    {
     "data": {
      "text/plain": [
       "'/gpfs/workdir/oumidaa/cross-model-entity-alignment/src/tokenizer'"
      ]
     },
     "execution_count": 14,
     "metadata": {},
     "output_type": "execute_result"
    }
   ],
   "source": [
    "%pwd"
   ]
  },
  {
   "cell_type": "code",
   "execution_count": 7,
   "metadata": {},
   "outputs": [],
   "source": [
    "from tokenizer import CEGATokenize\n",
    "\n",
    "tokenizer = CEGATokenize()\n",
    "\n",
    "with open('../../data/rdf/random_triples.ttl', 'r') as f:\n",
    "    text = f.read()\n"
   ]
  },
  {
   "cell_type": "code",
   "execution_count": 8,
   "metadata": {},
   "outputs": [
    {
     "data": {
      "text/plain": [
       "'/gpfs/workdir/oumidaa/cross-model-entity-alignment/src/tokenizer'"
      ]
     },
     "execution_count": 8,
     "metadata": {},
     "output_type": "execute_result"
    }
   ],
   "source": [
    "%pwd"
   ]
  },
  {
   "cell_type": "code",
   "execution_count": 9,
   "metadata": {},
   "outputs": [],
   "source": [
    "# train the tokenizer\n",
    "# tokenizer.train(text, vocab_size=2000)\n",
    "# tokenizer.save('src/tokenizer/bbpe2000.model')\n",
    "\n",
    "tokenizer.load('bbpe2203.model')"
   ]
  },
  {
   "cell_type": "code",
   "execution_count": 12,
   "metadata": {},
   "outputs": [
    {
     "name": "stdout",
     "output_type": "stream",
     "text": [
      "<http://dbpedia.org/property/1up> <http://www.w3.org/1999/02/22-rdf-syntax-ns#type> <http://www.w3.org/1999/02/22-rdf-syntax-ns#Property> .\n",
      "\u001b[48;2;102;194;165m<http://dbpedia.org/\u001b[0m \u001b[48;2;252;141;98mproperty/\u001b[0m \u001b[48;2;141;160;203m1\u001b[0m \u001b[48;2;231;138;195mu\u001b[0m \u001b[48;2;166;216;84mp\u001b[0m \u001b[48;2;255;217;47m> <http://www.w3.org/1999/02/22-rdf-syntax-ns#type> <http://www.w3.org/1999/02/22-rdf-syntax-ns#Property> \u001b[0m \u001b[48;2;102;194;165m.\u001b[0m \n"
     ]
    }
   ],
   "source": [
    "print(text)\n",
    "text=\"<http://dbpedia.org/property/1up> <http://www.w3.org/1999/02/22-rdf-syntax-ns#type> <http://www.w3.org/1999/02/22-rdf-syntax-ns#Property> .\"\n",
    "tokenizer.show_tokens(text)"
   ]
  }
 ],
 "metadata": {
  "kernelspec": {
   "display_name": "multilang-code-vul-detection",
   "language": "python",
   "name": "python3"
  },
  "language_info": {
   "codemirror_mode": {
    "name": "ipython",
    "version": 3
   },
   "file_extension": ".py",
   "mimetype": "text/x-python",
   "name": "python",
   "nbconvert_exporter": "python",
   "pygments_lexer": "ipython3",
   "version": "3.9.21"
  }
 },
 "nbformat": 4,
 "nbformat_minor": 2
}
